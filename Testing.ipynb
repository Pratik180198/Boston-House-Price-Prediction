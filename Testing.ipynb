{
 "cells": [
  {
   "cell_type": "code",
   "execution_count": 24,
   "metadata": {},
   "outputs": [],
   "source": [
    "import pickle\n",
    "model = pickle.load(open('RFHouseModel.pkl', 'rb'))\n",
    "scaler = pickle.load(open('Scaler.pkl','rb'))"
   ]
  },
  {
   "cell_type": "code",
   "execution_count": 25,
   "metadata": {},
   "outputs": [],
   "source": [
    "import numpy as np"
   ]
  },
  {
   "cell_type": "code",
   "execution_count": 3,
   "metadata": {},
   "outputs": [],
   "source": [
    "# 0.09164\t0.0\t10.81\t0\t0.413\t6.065\t7.8\t5.2873\t4\t305\t19.2\t390.91\t5.52"
   ]
  },
  {
   "cell_type": "code",
   "execution_count": 26,
   "metadata": {},
   "outputs": [
    {
     "name": "stdout",
     "output_type": "stream",
     "text": [
      "CRIM= 0.09164\n",
      "ZN= 0.0\n",
      "INDUS= 10.81\n",
      "CHAS= 0\n",
      "NOX= 0.413\n",
      "RM= 6.065\n",
      "AGE= 7.8\n",
      "DIS= 5.2873\n",
      "TAX= 305\n",
      "PTRATIO= 19.2\n",
      "B= 390.91\n",
      "LSTAT= 5.52\n"
     ]
    },
    {
     "data": {
      "text/plain": [
       "array([[-2.38988742,  0.        ,  2.38047163,  0.        , -0.88430769,\n",
       "         1.80253454,  7.8       ,  1.66530772,  5.72031178,  2.95491028,\n",
       "         5.96847735,  1.70837786]])"
      ]
     },
     "execution_count": 26,
     "metadata": {},
     "output_type": "execute_result"
    }
   ],
   "source": [
    "l=[]\n",
    "CRIM=np.log(float(input(\"CRIM= \")))\n",
    "ZN=float(input(\"ZN= \"))\n",
    "INDUS=np.log(float(input(\"INDUS= \")))\n",
    "CHAS=float(input(\"CHAS= \"))\n",
    "NOX=np.log(float(input(\"NOX= \")))\n",
    "RM=np.log(float(input(\"RM= \")))\n",
    "AGE=float(input(\"AGE= \"))\n",
    "DIS=np.log(float(input(\"DIS= \")))\n",
    "TAX=np.log(float(input(\"TAX= \")))\n",
    "PTRATIO=np.log(float(input(\"PTRATIO= \")))\n",
    "B=np.log(float(input(\"B= \")))\n",
    "LSTAT=np.log(float(input(\"LSTAT= \")))\n",
    "l.extend([CRIM,ZN,INDUS,CHAS,NOX,RM,AGE,DIS,TAX,PTRATIO,B,LSTAT])\n",
    "arr=np.asarray([l])\n",
    "arr"
   ]
  },
  {
   "cell_type": "code",
   "execution_count": 27,
   "metadata": {},
   "outputs": [
    {
     "data": {
      "text/plain": [
       "array([[-0.75087129, -0.50147545,  0.30345184, -0.26171196, -1.35121934,\n",
       "        -0.20962283, -2.17537489,  0.85007686, -0.52308927,  0.3665779 ,\n",
       "         0.2889947 , -1.2001451 ]])"
      ]
     },
     "execution_count": 27,
     "metadata": {},
     "output_type": "execute_result"
    }
   ],
   "source": [
    "scaler=scaler.transform(arr)\n",
    "scaler"
   ]
  },
  {
   "cell_type": "code",
   "execution_count": 28,
   "metadata": {},
   "outputs": [
    {
     "name": "stdout",
     "output_type": "stream",
     "text": [
      "Price of the House is :  23560.0 $\n"
     ]
    }
   ],
   "source": [
    "print(\"Price of the House is : \",1000*(round(model.predict(scaler)[0],2)),\"$\")"
   ]
  },
  {
   "cell_type": "code",
   "execution_count": null,
   "metadata": {},
   "outputs": [],
   "source": []
  },
  {
   "cell_type": "code",
   "execution_count": null,
   "metadata": {},
   "outputs": [],
   "source": []
  }
 ],
 "metadata": {
  "kernelspec": {
   "display_name": "HousePrice",
   "language": "python",
   "name": "houseprice"
  },
  "language_info": {
   "codemirror_mode": {
    "name": "ipython",
    "version": 3
   },
   "file_extension": ".py",
   "mimetype": "text/x-python",
   "name": "python",
   "nbconvert_exporter": "python",
   "pygments_lexer": "ipython3",
   "version": "3.8.5"
  }
 },
 "nbformat": 4,
 "nbformat_minor": 4
}
